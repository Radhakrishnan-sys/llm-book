{
 "cells": [
  {
   "cell_type": "code",
   "execution_count": 1,
   "id": "66c8a9ab",
   "metadata": {},
   "outputs": [],
   "source": [
    "import pandas as pd\n",
    "\n",
    "books=pd.read_csv(\"books_with_categories.csv\")"
   ]
  },
  {
   "cell_type": "code",
   "execution_count": 2,
   "id": "e27a6008",
   "metadata": {},
   "outputs": [
    {
     "name": "stderr",
     "output_type": "stream",
     "text": [
      "Device set to use cpu\n"
     ]
    },
    {
     "data": {
      "text/plain": [
       "[[{'label': 'joy', 'score': 0.9771687984466553},\n",
       "  {'label': 'surprise', 'score': 0.008528691716492176},\n",
       "  {'label': 'neutral', 'score': 0.005764589179307222},\n",
       "  {'label': 'anger', 'score': 0.004419791977852583},\n",
       "  {'label': 'sadness', 'score': 0.002092393347993493},\n",
       "  {'label': 'disgust', 'score': 0.001611992483958602},\n",
       "  {'label': 'fear', 'score': 0.0004138525982853025}]]"
      ]
     },
     "execution_count": 2,
     "metadata": {},
     "output_type": "execute_result"
    }
   ],
   "source": [
    "from transformers import pipeline\n",
    "classifier= pipeline(\"text-classification\",\n",
    "                     model= \"j-hartmann/emotion-english-distilroberta-base\",\n",
    "                     top_k= None,\n",
    "                     device= 0)\n",
    "\n",
    "classifier(\"I love this!\")"
   ]
  },
  {
   "cell_type": "code",
   "execution_count": 3,
   "id": "2959ea96",
   "metadata": {},
   "outputs": [
    {
     "data": {
      "text/plain": [
       "'A NOVEL THAT READERS and critics have been eagerly anticipating for over a decade, Gilead is an astonishingly imagined story of remarkable lives. John Ames is a preacher, the son of a preacher and the grandson (both maternal and paternal) of preachers. It’s 1956 in Gilead, Iowa, towards the end of the Reverend Ames’s life, and he is absorbed in recording his family’s story, a legacy for the young son he will never see grow up. Haunted by his grandfather’s presence, John tells of the rift between his grandfather and his father: the elder, an angry visionary who fought for the abolitionist cause, and his son, an ardent pacifist. He is troubled, too, by his prodigal namesake, Jack (John Ames) Boughton, his best friend’s lost son who returns to Gilead searching for forgiveness and redemption. Told in John Ames’s joyous, rambling voice that finds beauty, humour and truth in the smallest of life’s details, Gilead is a song of celebration and acceptance of the best and the worst the world has to offer. At its heart is a tale of the sacred bonds between fathers and sons, pitch-perfect in style and story, set to dazzle critics and readers alike.'"
      ]
     },
     "execution_count": 3,
     "metadata": {},
     "output_type": "execute_result"
    }
   ],
   "source": [
    "books[\"description\"][0]"
   ]
  },
  {
   "cell_type": "code",
   "execution_count": 4,
   "id": "56d5dd0e",
   "metadata": {},
   "outputs": [
    {
     "data": {
      "text/plain": [
       "[[{'label': 'fear', 'score': 0.6548399925231934},\n",
       "  {'label': 'neutral', 'score': 0.1698525995016098},\n",
       "  {'label': 'sadness', 'score': 0.11640939861536026},\n",
       "  {'label': 'surprise', 'score': 0.02070068009197712},\n",
       "  {'label': 'disgust', 'score': 0.019100721925497055},\n",
       "  {'label': 'joy', 'score': 0.015161462128162384},\n",
       "  {'label': 'anger', 'score': 0.003935154061764479}]]"
      ]
     },
     "execution_count": 4,
     "metadata": {},
     "output_type": "execute_result"
    }
   ],
   "source": [
    "classifier(books[\"description\"][0])"
   ]
  },
  {
   "cell_type": "code",
   "execution_count": 5,
   "id": "fe3e52a3",
   "metadata": {},
   "outputs": [
    {
     "data": {
      "text/plain": [
       "[[{'label': 'surprise', 'score': 0.7296021580696106},\n",
       "  {'label': 'neutral', 'score': 0.14038598537445068},\n",
       "  {'label': 'fear', 'score': 0.06816227734088898},\n",
       "  {'label': 'joy', 'score': 0.04794260486960411},\n",
       "  {'label': 'anger', 'score': 0.009156367741525173},\n",
       "  {'label': 'disgust', 'score': 0.0026284768246114254},\n",
       "  {'label': 'sadness', 'score': 0.002122163772583008}],\n",
       " [{'label': 'neutral', 'score': 0.4493706524372101},\n",
       "  {'label': 'disgust', 'score': 0.27359113097190857},\n",
       "  {'label': 'joy', 'score': 0.1090831384062767},\n",
       "  {'label': 'sadness', 'score': 0.09362747520208359},\n",
       "  {'label': 'anger', 'score': 0.04047833010554314},\n",
       "  {'label': 'surprise', 'score': 0.02697019837796688},\n",
       "  {'label': 'fear', 'score': 0.006879049818962812}],\n",
       " [{'label': 'neutral', 'score': 0.6462159156799316},\n",
       "  {'label': 'sadness', 'score': 0.242733433842659},\n",
       "  {'label': 'disgust', 'score': 0.043422672897577286},\n",
       "  {'label': 'surprise', 'score': 0.02830057218670845},\n",
       "  {'label': 'joy', 'score': 0.014211490750312805},\n",
       "  {'label': 'fear', 'score': 0.014084091410040855},\n",
       "  {'label': 'anger', 'score': 0.011031905189156532}],\n",
       " [{'label': 'fear', 'score': 0.9281682968139648},\n",
       "  {'label': 'anger', 'score': 0.03219081461429596},\n",
       "  {'label': 'neutral', 'score': 0.012808660045266151},\n",
       "  {'label': 'sadness', 'score': 0.008756875991821289},\n",
       "  {'label': 'surprise', 'score': 0.008597892709076405},\n",
       "  {'label': 'disgust', 'score': 0.008431807160377502},\n",
       "  {'label': 'joy', 'score': 0.0010455832816660404}],\n",
       " [{'label': 'sadness', 'score': 0.9671575427055359},\n",
       "  {'label': 'neutral', 'score': 0.015104148536920547},\n",
       "  {'label': 'disgust', 'score': 0.00648059556260705},\n",
       "  {'label': 'fear', 'score': 0.005393987521529198},\n",
       "  {'label': 'surprise', 'score': 0.0022869398817420006},\n",
       "  {'label': 'anger', 'score': 0.001842890284024179},\n",
       "  {'label': 'joy', 'score': 0.0017338779289275408}],\n",
       " [{'label': 'joy', 'score': 0.9327981472015381},\n",
       "  {'label': 'disgust', 'score': 0.0377170704305172},\n",
       "  {'label': 'neutral', 'score': 0.015891827642917633},\n",
       "  {'label': 'sadness', 'score': 0.006444500293582678},\n",
       "  {'label': 'anger', 'score': 0.005024968180805445},\n",
       "  {'label': 'surprise', 'score': 0.0015812065685167909},\n",
       "  {'label': 'fear', 'score': 0.0005423057009465992}],\n",
       " [{'label': 'joy', 'score': 0.6528705954551697},\n",
       "  {'label': 'neutral', 'score': 0.25427478551864624},\n",
       "  {'label': 'surprise', 'score': 0.06808297336101532},\n",
       "  {'label': 'sadness', 'score': 0.009908991865813732},\n",
       "  {'label': 'disgust', 'score': 0.006512214429676533},\n",
       "  {'label': 'anger', 'score': 0.0048213074915111065},\n",
       "  {'label': 'fear', 'score': 0.003529018023982644}],\n",
       " [{'label': 'neutral', 'score': 0.549476683139801},\n",
       "  {'label': 'sadness', 'score': 0.11169019341468811},\n",
       "  {'label': 'disgust', 'score': 0.10400673747062683},\n",
       "  {'label': 'surprise', 'score': 0.07876546680927277},\n",
       "  {'label': 'anger', 'score': 0.06413363665342331},\n",
       "  {'label': 'fear', 'score': 0.051362838596105576},\n",
       "  {'label': 'joy', 'score': 0.04056441783905029}]]"
      ]
     },
     "execution_count": 5,
     "metadata": {},
     "output_type": "execute_result"
    }
   ],
   "source": [
    "classifier(books[\"description\"][0].split(\".\"))"
   ]
  },
  {
   "cell_type": "code",
   "execution_count": 6,
   "id": "ab6b15e4",
   "metadata": {},
   "outputs": [],
   "source": [
    "sentences= books[\"description\"][0].split(\".\")\n",
    "predictions= classifier(sentences)"
   ]
  },
  {
   "cell_type": "code",
   "execution_count": 7,
   "id": "79abc444",
   "metadata": {},
   "outputs": [
    {
     "data": {
      "text/plain": [
       "' Haunted by his grandfather’s presence, John tells of the rift between his grandfather and his father: the elder, an angry visionary who fought for the abolitionist cause, and his son, an ardent pacifist'"
      ]
     },
     "execution_count": 7,
     "metadata": {},
     "output_type": "execute_result"
    }
   ],
   "source": [
    "sentences[3]"
   ]
  },
  {
   "cell_type": "code",
   "execution_count": 8,
   "id": "7d52341d",
   "metadata": {},
   "outputs": [
    {
     "data": {
      "text/plain": [
       "[{'label': 'fear', 'score': 0.9281682968139648},\n",
       " {'label': 'anger', 'score': 0.03219081461429596},\n",
       " {'label': 'neutral', 'score': 0.012808660045266151},\n",
       " {'label': 'sadness', 'score': 0.008756875991821289},\n",
       " {'label': 'surprise', 'score': 0.008597892709076405},\n",
       " {'label': 'disgust', 'score': 0.008431807160377502},\n",
       " {'label': 'joy', 'score': 0.0010455832816660404}]"
      ]
     },
     "execution_count": 8,
     "metadata": {},
     "output_type": "execute_result"
    }
   ],
   "source": [
    "predictions[3]"
   ]
  },
  {
   "cell_type": "code",
   "execution_count": 9,
   "id": "c9936cf1",
   "metadata": {},
   "outputs": [
    {
     "data": {
      "text/plain": [
       "[[{'label': 'surprise', 'score': 0.7296021580696106},\n",
       "  {'label': 'neutral', 'score': 0.14038598537445068},\n",
       "  {'label': 'fear', 'score': 0.06816227734088898},\n",
       "  {'label': 'joy', 'score': 0.04794260486960411},\n",
       "  {'label': 'anger', 'score': 0.009156367741525173},\n",
       "  {'label': 'disgust', 'score': 0.0026284768246114254},\n",
       "  {'label': 'sadness', 'score': 0.002122163772583008}],\n",
       " [{'label': 'neutral', 'score': 0.4493706524372101},\n",
       "  {'label': 'disgust', 'score': 0.27359113097190857},\n",
       "  {'label': 'joy', 'score': 0.1090831384062767},\n",
       "  {'label': 'sadness', 'score': 0.09362747520208359},\n",
       "  {'label': 'anger', 'score': 0.04047833010554314},\n",
       "  {'label': 'surprise', 'score': 0.02697019837796688},\n",
       "  {'label': 'fear', 'score': 0.006879049818962812}],\n",
       " [{'label': 'neutral', 'score': 0.6462159156799316},\n",
       "  {'label': 'sadness', 'score': 0.242733433842659},\n",
       "  {'label': 'disgust', 'score': 0.043422672897577286},\n",
       "  {'label': 'surprise', 'score': 0.02830057218670845},\n",
       "  {'label': 'joy', 'score': 0.014211490750312805},\n",
       "  {'label': 'fear', 'score': 0.014084091410040855},\n",
       "  {'label': 'anger', 'score': 0.011031905189156532}],\n",
       " [{'label': 'fear', 'score': 0.9281682968139648},\n",
       "  {'label': 'anger', 'score': 0.03219081461429596},\n",
       "  {'label': 'neutral', 'score': 0.012808660045266151},\n",
       "  {'label': 'sadness', 'score': 0.008756875991821289},\n",
       "  {'label': 'surprise', 'score': 0.008597892709076405},\n",
       "  {'label': 'disgust', 'score': 0.008431807160377502},\n",
       "  {'label': 'joy', 'score': 0.0010455832816660404}],\n",
       " [{'label': 'sadness', 'score': 0.9671575427055359},\n",
       "  {'label': 'neutral', 'score': 0.015104148536920547},\n",
       "  {'label': 'disgust', 'score': 0.00648059556260705},\n",
       "  {'label': 'fear', 'score': 0.005393987521529198},\n",
       "  {'label': 'surprise', 'score': 0.0022869398817420006},\n",
       "  {'label': 'anger', 'score': 0.001842890284024179},\n",
       "  {'label': 'joy', 'score': 0.0017338779289275408}],\n",
       " [{'label': 'joy', 'score': 0.9327981472015381},\n",
       "  {'label': 'disgust', 'score': 0.0377170704305172},\n",
       "  {'label': 'neutral', 'score': 0.015891827642917633},\n",
       "  {'label': 'sadness', 'score': 0.006444500293582678},\n",
       "  {'label': 'anger', 'score': 0.005024968180805445},\n",
       "  {'label': 'surprise', 'score': 0.0015812065685167909},\n",
       "  {'label': 'fear', 'score': 0.0005423057009465992}],\n",
       " [{'label': 'joy', 'score': 0.6528705954551697},\n",
       "  {'label': 'neutral', 'score': 0.25427478551864624},\n",
       "  {'label': 'surprise', 'score': 0.06808297336101532},\n",
       "  {'label': 'sadness', 'score': 0.009908991865813732},\n",
       "  {'label': 'disgust', 'score': 0.006512214429676533},\n",
       "  {'label': 'anger', 'score': 0.0048213074915111065},\n",
       "  {'label': 'fear', 'score': 0.003529018023982644}],\n",
       " [{'label': 'neutral', 'score': 0.549476683139801},\n",
       "  {'label': 'sadness', 'score': 0.11169019341468811},\n",
       "  {'label': 'disgust', 'score': 0.10400673747062683},\n",
       "  {'label': 'surprise', 'score': 0.07876546680927277},\n",
       "  {'label': 'anger', 'score': 0.06413363665342331},\n",
       "  {'label': 'fear', 'score': 0.051362838596105576},\n",
       "  {'label': 'joy', 'score': 0.04056441783905029}]]"
      ]
     },
     "execution_count": 9,
     "metadata": {},
     "output_type": "execute_result"
    }
   ],
   "source": [
    "predictions"
   ]
  },
  {
   "cell_type": "code",
   "execution_count": 10,
   "id": "51a2aca6",
   "metadata": {},
   "outputs": [
    {
     "data": {
      "text/plain": [
       "[{'label': 'anger', 'score': 0.009156367741525173},\n",
       " {'label': 'disgust', 'score': 0.0026284768246114254},\n",
       " {'label': 'fear', 'score': 0.06816227734088898},\n",
       " {'label': 'joy', 'score': 0.04794260486960411},\n",
       " {'label': 'neutral', 'score': 0.14038598537445068},\n",
       " {'label': 'sadness', 'score': 0.002122163772583008},\n",
       " {'label': 'surprise', 'score': 0.7296021580696106}]"
      ]
     },
     "execution_count": 10,
     "metadata": {},
     "output_type": "execute_result"
    }
   ],
   "source": [
    "sorted(predictions[0], key=lambda x:x[\"label\"])"
   ]
  },
  {
   "cell_type": "code",
   "execution_count": 18,
   "id": "7bbb74f6",
   "metadata": {},
   "outputs": [],
   "source": [
    "import numpy as np\n",
    "\n",
    "emotion_labels=[\"anger\", \"disgust\", \"fear\", \"joy\", \"sadness\", \"surprise\", \"neutral\"]\n",
    "isbn=[]\n",
    "emotion_scores= {label: [] for label in emotion_labels}\n",
    "\n",
    "\n",
    "def calculate_max_emotion_scores(predictions):\n",
    "    per_emotion_scores = {label: [] for label in emotion_labels}\n",
    "    for prediction in predictions:\n",
    "        sorted_predictions= sorted(prediction, key=lambda x:x[\"label\"])\n",
    "        for index, label in enumerate(emotion_labels):\n",
    "            per_emotion_scores[label].append(sorted_predictions[index][\"score\"])\n",
    "    return {label:np.max(scores) for label, scores in per_emotion_scores.items()}"
   ]
  },
  {
   "cell_type": "code",
   "execution_count": 19,
   "id": "e873ab0d",
   "metadata": {},
   "outputs": [],
   "source": [
    "for i in range(10):\n",
    "    isbn.append(books[\"isbn13\"][i])\n",
    "    sentences= books[\"description\"][i].split(\".\")\n",
    "    prdictions= classifier(sentences)\n",
    "    max_scores= calculate_max_emotion_scores(predictions)\n",
    "    for label in emotion_labels:\n",
    "        emotion_scores[label].append(max_scores[label])"
   ]
  }
 ],
 "metadata": {
  "kernelspec": {
   "display_name": ".venv",
   "language": "python",
   "name": "python3"
  },
  "language_info": {
   "codemirror_mode": {
    "name": "ipython",
    "version": 3
   },
   "file_extension": ".py",
   "mimetype": "text/x-python",
   "name": "python",
   "nbconvert_exporter": "python",
   "pygments_lexer": "ipython3",
   "version": "3.13.2"
  }
 },
 "nbformat": 4,
 "nbformat_minor": 5
}
